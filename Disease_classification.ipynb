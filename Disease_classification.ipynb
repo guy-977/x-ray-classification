{
  "nbformat": 4,
  "nbformat_minor": 0,
  "metadata": {
    "colab": {
      "provenance": [],
      "authorship_tag": "ABX9TyMIA+2I9BeUsjlPklmX3KBf",
      "include_colab_link": true
    },
    "kernelspec": {
      "name": "python3",
      "display_name": "Python 3"
    },
    "language_info": {
      "name": "python"
    }
  },
  "cells": [
    {
      "cell_type": "markdown",
      "metadata": {
        "id": "view-in-github",
        "colab_type": "text"
      },
      "source": [
        "<a href=\"https://colab.research.google.com/github/guy-977/x-ray-pneumonia/blob/main/Disease_classification.ipynb\" target=\"_parent\"><img src=\"https://colab.research.google.com/assets/colab-badge.svg\" alt=\"Open In Colab\"/></a>"
      ]
    },
    {
      "cell_type": "markdown",
      "source": [
        "# What is this?\n",
        "we will train a CNN model for classifing Medical MNIST images"
      ],
      "metadata": {
        "id": "vcNhdrZWFAJe"
      }
    },
    {
      "cell_type": "markdown",
      "source": [
        "### DATASET\n",
        "first we need to import medMNIST dataset,\n",
        "this dataset a collection of standardized biomedical images\n",
        "\n",
        "#### Citation for dataset\n",
        "  *Jiancheng Yang, Rui Shi, Donglai Wei, Zequan Liu, Lin Zhao, Bilian Ke, Hanspeter Pfister, Bingbing Ni. \"MedMNIST v2: A Large-Scale Lightweight Benchmark for 2D and 3D Biomedical Image Classification\". arXiv preprint arXiv:2110.14795, 2021.*\n",
        "\n",
        "#### Citation for tutorial\n",
        " *AITS Cainvas Community*, link [here](https://cainvas.ai-tech.systems/use-cases/disease-classification-app/)"
      ],
      "metadata": {
        "id": "2BdChs0IFjW5"
      }
    },
    {
      "cell_type": "code",
      "source": [
        "!wget -N \"https://cainvas-static.s3.amazonaws.com/media/user_data/cainvas-admin/MedNIST.zip\"\n",
        "!unzip -qo \"MedNIST.zip\"\n",
        "!rm \"MedNIST.zip\"\n",
        "\n",
        "test_dir = \"Medical/Medical_test\"\n",
        "train_dir = \"Medical/Medical_train\""
      ],
      "metadata": {
        "colab": {
          "base_uri": "https://localhost:8080/"
        },
        "id": "eHiPJQjIKrEz",
        "outputId": "8194eeaa-a0c6-410e-bb60-2008170b0fba"
      },
      "execution_count": 1,
      "outputs": [
        {
          "output_type": "stream",
          "name": "stdout",
          "text": [
            "--2022-12-29 20:29:53--  https://cainvas-static.s3.amazonaws.com/media/user_data/cainvas-admin/MedNIST.zip\n",
            "Resolving cainvas-static.s3.amazonaws.com (cainvas-static.s3.amazonaws.com)... 52.219.158.3\n",
            "Connecting to cainvas-static.s3.amazonaws.com (cainvas-static.s3.amazonaws.com)|52.219.158.3|:443... connected.\n",
            "HTTP request sent, awaiting response... 200 OK\n",
            "Length: 110557154 (105M) [application/x-zip-compressed]\n",
            "Saving to: ‘MedNIST.zip’\n",
            "\n",
            "MedNIST.zip         100%[===================>] 105.43M  13.8MB/s    in 9.0s    \n",
            "\n",
            "2022-12-29 20:30:03 (11.8 MB/s) - ‘MedNIST.zip’ saved [110557154/110557154]\n",
            "\n"
          ]
        }
      ]
    },
    {
      "cell_type": "code",
      "execution_count": 22,
      "metadata": {
        "id": "XXuh2NFsEkO0"
      },
      "outputs": [],
      "source": [
        "# import dependencies\n",
        "import os\n",
        "import pandas as pd\n",
        "import numpy as np\n",
        "import matplotlib.pyplot as plt\n",
        "import random, shutil, datetime, math\n",
        "from matplotlib.image import imread\n",
        "from tensorflow.keras.preprocessing.image import ImageDataGenerator\n",
        "from tensorflow.keras.preprocessing import image\n",
        "from tensorflow.keras.callbacks import ModelCheckpoint, EarlyStopping\n",
        "from tensorflow.keras.callbacks import ReduceLROnPlateau\n",
        "from tensorflow.keras.models import Sequential\n",
        "from tensorflow.keras.layers import Conv2D, MaxPooling2D, Flatten, Dense\n",
        "from tensorflow.keras.utils import plot_model"
      ]
    },
    {
      "cell_type": "markdown",
      "source": [
        "### A function for preperation of the test dataset"
      ],
      "metadata": {
        "id": "YgHyFPtKGEfo"
      }
    },
    {
      "cell_type": "code",
      "source": [
        "def prep_test_data(med, train_dir, test_dir):\n",
        "  pop = os.listdir(train_dir + '/' + med)\n",
        "  test_data = random.sample(pop, 2000)\n",
        "\n",
        "  for file in test_data:\n",
        "    shutil.copy(train_dir+'/'+med+'/'+file, test_dir+'/'+med+'/')"
      ],
      "metadata": {
        "id": "M-C91C7HMIOh"
      },
      "execution_count": 3,
      "outputs": []
    },
    {
      "cell_type": "code",
      "source": [
        "for medi in os.listdir(train_dir):\n",
        "  prep_test_data(medi, train_dir, test_dir)"
      ],
      "metadata": {
        "id": "SpEhgmxtNzof"
      },
      "execution_count": 4,
      "outputs": []
    },
    {
      "cell_type": "code",
      "source": [
        "# for train data\n",
        "target_classes = os.listdir(train_dir)\n",
        "num_classes = len(target_classes)\n",
        "print('Number of target classes:', num_classes)\n",
        "print(list(enumerate(target_classes)))"
      ],
      "metadata": {
        "colab": {
          "base_uri": "https://localhost:8080/"
        },
        "id": "GI4vXbqPN-f3",
        "outputId": "75ec1218-3917-4a5e-d350-1a800f40301e"
      },
      "execution_count": 5,
      "outputs": [
        {
          "output_type": "stream",
          "name": "stdout",
          "text": [
            "Number of target classes: 6\n",
            "[(0, 'BreastMRI'), (1, 'HeadCT'), (2, 'AbdomenCT'), (3, 'ChestCT'), (4, 'Hand'), (5, 'CXR')]\n"
          ]
        }
      ]
    },
    {
      "cell_type": "code",
      "source": [
        "#for test data\n",
        "target_classes = os.listdir(test_dir)\n",
        "num_classes = len(target_classes)\n",
        "print('Number of target classes:', num_classes)\n",
        "print(list(enumerate(target_classes)))"
      ],
      "metadata": {
        "colab": {
          "base_uri": "https://localhost:8080/"
        },
        "id": "sWy3v1DwP4wN",
        "outputId": "9963a5ed-dc90-4952-e091-badd627f7c81"
      },
      "execution_count": 6,
      "outputs": [
        {
          "output_type": "stream",
          "name": "stdout",
          "text": [
            "Number of target classes: 6\n",
            "[(0, 'BreastMRI'), (1, 'HeadCT'), (2, 'AbdomenCT'), (3, 'ChestCT'), (4, 'Hand'), (5, 'CXR')]\n"
          ]
        }
      ]
    },
    {
      "cell_type": "markdown",
      "source": [
        "### set up data distrobutions"
      ],
      "metadata": {
        "id": "RMH0pWYeQOfl"
      }
    },
    {
      "cell_type": "code",
      "source": [
        "training_set_distrobution = [len(os.listdir(os.path.join(train_dir, dir))) for dir in os.listdir(train_dir)]\n",
        "testing_set_distrobution = [len(os.listdir(os.path.join(test_dir, dir))) for dir in os.listdir(test_dir)]"
      ],
      "metadata": {
        "id": "NExi8lbbQS8f"
      },
      "execution_count": 7,
      "outputs": []
    },
    {
      "cell_type": "code",
      "source": [
        "def show_mri(med):\n",
        "  num = len(med)\n",
        "  if num == 0:\n",
        "    return None\n",
        "  rows = int(math.sqrt(num))\n",
        "  cols = (num+1)//rows\n",
        "  f, axs = plt.subplots(rows, cols)\n",
        "  fig = 0\n",
        "  for b in med:\n",
        "    img = image.load_img(b)\n",
        "    row = fig // cols\n",
        "    col = fig % cols\n",
        "    axs[row, col].imshow(img)\n",
        "    fig += 1\n",
        "\n",
        "  plt.show()"
      ],
      "metadata": {
        "id": "2V8yRycflGss"
      },
      "execution_count": 12,
      "outputs": []
    },
    {
      "cell_type": "code",
      "source": [
        "dir_name = os.path.join(train_dir,\"HeadCT\")\n",
        "all_images = [os.path.join(dir_name, fname) for fname in os.listdir(dir_name)]\n",
        "show_mri(all_images[:12])"
      ],
      "metadata": {
        "colab": {
          "base_uri": "https://localhost:8080/",
          "height": 269
        },
        "id": "17L5IABKnLrM",
        "outputId": "98623cf3-fc70-4529-a683-44ecabfecb59"
      },
      "execution_count": 19,
      "outputs": [
        {
          "output_type": "display_data",
          "data": {
            "text/plain": [
              "<Figure size 432x288 with 12 Axes>"
            ],
            "image/png": "[encoded data removed]"
          },
          "metadata": {
            "needs_background": "light"
          }
        }
      ]
    },
    {
      "cell_type": "markdown",
      "source": [
        "### Pre-processing images"
      ],
      "metadata": {
        "id": "1gSpxTHdGcYZ"
      }
    },
    {
      "cell_type": "code",
      "source": [
        "image_size = (32, 32, 3)\n",
        "datagen = ImageDataGenerator(rescale=1./255, shear_range=0.2, zoom_range=0.2, horizontal_flip=True)\n",
        "training_set = datagen.flow_from_directory(train_dir, target_size=image_size[:2], batch_size=32, class_mode='categorical', shuffle=False)\n",
        "validation_set = datagen.flow_from_directory(test_dir, target_size=image_size[:2], batch_size=32, class_mode='categorical', shuffle=False)"
      ],
      "metadata": {
        "colab": {
          "base_uri": "https://localhost:8080/"
        },
        "id": "DHZ7WOAxqQR3",
        "outputId": "64905c49-a2f7-4150-c344-da6ffa117494"
      },
      "execution_count": 21,
      "outputs": [
        {
          "output_type": "stream",
          "name": "stdout",
          "text": [
            "Found 58954 images belonging to 6 classes.\n",
            "Found 21625 images belonging to 6 classes.\n"
          ]
        }
      ]
    },
    {
      "cell_type": "markdown",
      "source": [
        "### Callbacks"
      ],
      "metadata": {
        "id": "rnFOVkzUGU3A"
      }
    },
    {
      "cell_type": "code",
      "source": [
        "es = EarlyStopping(monitor='val_acc', mode='max', verbose=1, patience=7)\n",
        "filepath = \"modelMedicalMNIST.h5\"\n",
        "ckpt = ModelCheckpoint(filepath, monitor='acc', verbose=1,\n",
        "save_best_only=True, mode='max')\n",
        "rlp = ReduceLROnPlateau(monitor='acc', patience=3, verbose=1)"
      ],
      "metadata": {
        "id": "FjgQQof7shv0"
      },
      "execution_count": 23,
      "outputs": []
    },
    {
      "cell_type": "markdown",
      "source": [
        "### CNN Model"
      ],
      "metadata": {
        "id": "muBwWUzvGiE_"
      }
    },
    {
      "cell_type": "code",
      "source": [
        "def cnn(image_size, num_classes):\n",
        "  classifier = Sequential()\n",
        "  classifier.add(Conv2D(64, (5,5), input_shape=image_size, activation='relu', padding='same'))\n",
        "  classifier.add(MaxPooling2D(pool_size= (2,2)))\n",
        "  classifier.add(Conv2D(128, (3, 3), activation='relu', padding='same'))\n",
        "  classifier.add(MaxPooling2D(pool_size = (2, 2)))\n",
        "  classifier.add(Flatten())\n",
        "  classifier.add(Dense(num_classes, activation = 'softmax'))\n",
        "  classifier.compile(optimizer='adam', loss='categorical_crossentropy', metrics=['acc'])\n",
        "  return classifier\n",
        "\n",
        "neuralnetwork_cnn = cnn(image_size, num_classes)\n",
        "neuralnetwork_cnn.summary()"
      ],
      "metadata": {
        "colab": {
          "base_uri": "https://localhost:8080/"
        },
        "id": "vaFTJigJs-BU",
        "outputId": "1e874d63-2cd2-4a9a-f3a8-95730c6ec3b0"
      },
      "execution_count": 24,
      "outputs": [
        {
          "output_type": "stream",
          "name": "stdout",
          "text": [
            "Model: \"sequential\"\n",
            "_________________________________________________________________\n",
            " Layer (type)                Output Shape              Param #   \n",
            "=================================================================\n",
            " conv2d (Conv2D)             (None, 32, 32, 64)        4864      \n",
            "                                                                 \n",
            " max_pooling2d (MaxPooling2D  (None, 16, 16, 64)       0         \n",
            " )                                                               \n",
            "                                                                 \n",
            " conv2d_1 (Conv2D)           (None, 16, 16, 128)       73856     \n",
            "                                                                 \n",
            " max_pooling2d_1 (MaxPooling  (None, 8, 8, 128)        0         \n",
            " 2D)                                                             \n",
            "                                                                 \n",
            " flatten (Flatten)           (None, 8192)              0         \n",
            "                                                                 \n",
            " dense (Dense)               (None, 6)                 49158     \n",
            "                                                                 \n",
            "=================================================================\n",
            "Total params: 127,878\n",
            "Trainable params: 127,878\n",
            "Non-trainable params: 0\n",
            "_________________________________________________________________\n"
          ]
        }
      ]
    },
    {
      "cell_type": "markdown",
      "source": [
        "### Fitting"
      ],
      "metadata": {
        "id": "HkE55MY4GspR"
      }
    },
    {
      "cell_type": "code",
      "source": [
        "history = neuralnetwork_cnn.fit_generator( generator=training_set, validation_data=validation_set, callbacks=[es, ckpt, rlp], epochs = 5, )"
      ],
      "metadata": {
        "colab": {
          "base_uri": "https://localhost:8080/"
        },
        "id": "y0iaZXO09ws9",
        "outputId": "ebbc4cba-111e-4ea1-bcce-2edea3cbec1f"
      },
      "execution_count": 25,
      "outputs": [
        {
          "output_type": "stream",
          "name": "stdout",
          "text": [
            "Epoch 1/5\n"
          ]
        },
        {
          "output_type": "stream",
          "name": "stderr",
          "text": [
            "<ipython-input-25-5d513556557b>:1: UserWarning: `Model.fit_generator` is deprecated and will be removed in a future version. Please use `Model.fit`, which supports generators.\n",
            "  history = neuralnetwork_cnn.fit_generator( generator=training_set, validation_data=validation_set, callbacks=[es, ckpt, rlp], epochs = 5, )\n"
          ]
        },
        {
          "output_type": "stream",
          "name": "stdout",
          "text": [
            "1843/1843 [==============================] - ETA: 0s - loss: 0.1901 - acc: 0.9304\n",
            "Epoch 1: acc improved from -inf to 0.93037, saving model to modelMedicalMNIST.h5\n",
            "1843/1843 [==============================] - 313s 169ms/step - loss: 0.1901 - acc: 0.9304 - val_loss: 0.0333 - val_acc: 0.9902 - lr: 0.0010\n",
            "Epoch 2/5\n",
            "1843/1843 [==============================] - ETA: 0s - loss: 0.0763 - acc: 0.9847\n",
            "Epoch 2: acc improved from 0.93037 to 0.98470, saving model to modelMedicalMNIST.h5\n",
            "1843/1843 [==============================] - 302s 164ms/step - loss: 0.0763 - acc: 0.9847 - val_loss: 0.0139 - val_acc: 0.9970 - lr: 0.0010\n",
            "Epoch 3/5\n",
            "1843/1843 [==============================] - ETA: 0s - loss: 0.0449 - acc: 0.9879\n",
            "Epoch 3: acc improved from 0.98470 to 0.98787, saving model to modelMedicalMNIST.h5\n",
            "1843/1843 [==============================] - 302s 164ms/step - loss: 0.0449 - acc: 0.9879 - val_loss: 0.0146 - val_acc: 0.9964 - lr: 0.0010\n",
            "Epoch 4/5\n",
            "1843/1843 [==============================] - ETA: 0s - loss: 0.0198 - acc: 0.9946\n",
            "Epoch 4: acc improved from 0.98787 to 0.99459, saving model to modelMedicalMNIST.h5\n",
            "1843/1843 [==============================] - 302s 164ms/step - loss: 0.0198 - acc: 0.9946 - val_loss: 0.0065 - val_acc: 0.9983 - lr: 0.0010\n",
            "Epoch 5/5\n",
            "1843/1843 [==============================] - ETA: 0s - loss: 0.0461 - acc: 0.9915\n",
            "Epoch 5: acc did not improve from 0.99459\n",
            "1843/1843 [==============================] - 303s 164ms/step - loss: 0.0461 - acc: 0.9915 - val_loss: 0.0243 - val_acc: 0.9938 - lr: 0.0010\n"
          ]
        }
      ]
    },
    {
      "cell_type": "markdown",
      "source": [
        "### Loss and accuracy graghs"
      ],
      "metadata": {
        "id": "zTkGpWRLGxgR"
      }
    },
    {
      "cell_type": "code",
      "source": [
        "fig, ax = plt.subplots(figsize=(20, 6))\n",
        "pd.DataFrame(history.history).iloc[:, :-1].plot(ax=ax)"
      ],
      "metadata": {
        "colab": {
          "base_uri": "https://localhost:8080/",
          "height": 392
        },
        "id": "3lfPAM_G97JZ",
        "outputId": "318da11c-900c-4225-c910-a2baa44d310e"
      },
      "execution_count": 26,
      "outputs": [
        {
          "output_type": "execute_result",
          "data": {
            "text/plain": [
              "<matplotlib.axes._subplots.AxesSubplot at 0x7f91785e45e0>"
            ]
          },
          "metadata": {},
          "execution_count": 26
        },
        {
          "output_type": "display_data",
          "data": {
            "text/plain": [
              "<Figure size 1440x432 with 1 Axes>"
            ],
            "image/png": "[encoded data removed]"
          },
          "metadata": {
            "needs_background": "light"
          }
        }
      ]
    },
    {
      "cell_type": "markdown",
      "source": [
        "### Predicting on validation set"
      ],
      "metadata": {
        "id": "iM_H5fDPJL48"
      }
    },
    {
      "cell_type": "code",
      "source": [
        "batch_size=32\n",
        "pred=neuralnetwork_cnn.predict(validation_set,steps=306/batch_size)\n",
        "predicted_class_indices=np.argmax(pred,axis=1)\n",
        "\n",
        "labels = (validation_set.class_indices)\n",
        "labels = dict((v,k) for k,v in labels.items())\n",
        "predictions = [labels[k] for k in predicted_class_indices]"
      ],
      "metadata": {
        "colab": {
          "base_uri": "https://localhost:8080/"
        },
        "id": "jgpn_9DAI_4G",
        "outputId": "20b74f37-c1e7-47f4-8b50-c214afae4d26"
      },
      "execution_count": 32,
      "outputs": [
        {
          "output_type": "stream",
          "name": "stdout",
          "text": [
            "9/9 [==============================] - 1s 56ms/step\n"
          ]
        }
      ]
    },
    {
      "cell_type": "markdown",
      "source": [
        "### Displaying the category of image and predicted image"
      ],
      "metadata": {
        "id": "JO_8Xq64JOQF"
      }
    },
    {
      "cell_type": "code",
      "source": [
        "filenames=validation_set.filenames[0]\n",
        "results=pd.DataFrame({\"Filename\":filenames, \"Predictions\":predictions})\n",
        "\n",
        "display(results.head(12))"
      ],
      "metadata": {
        "colab": {
          "base_uri": "https://localhost:8080/",
          "height": 426
        },
        "id": "_14067McFzQx",
        "outputId": "3bfd33c7-b9b4-48a6-9f32-9dfe174a3adf"
      },
      "execution_count": 37,
      "outputs": [
        {
          "output_type": "display_data",
          "data": {
            "text/plain": [
              "                 Filename Predictions\n",
              "0   AbdomenCT/000002.jpeg   AbdomenCT\n",
              "1   AbdomenCT/000002.jpeg   AbdomenCT\n",
              "2   AbdomenCT/000002.jpeg   AbdomenCT\n",
              "3   AbdomenCT/000002.jpeg   AbdomenCT\n",
              "4   AbdomenCT/000002.jpeg   AbdomenCT\n",
              "5   AbdomenCT/000002.jpeg   AbdomenCT\n",
              "6   AbdomenCT/000002.jpeg   AbdomenCT\n",
              "7   AbdomenCT/000002.jpeg   AbdomenCT\n",
              "8   AbdomenCT/000002.jpeg   AbdomenCT\n",
              "9   AbdomenCT/000002.jpeg   AbdomenCT\n",
              "10  AbdomenCT/000002.jpeg   AbdomenCT\n",
              "11  AbdomenCT/000002.jpeg   AbdomenCT"
            ],
            "text/html": [
              "\n",
              "  <div id=\"df-94a55e80-0455-49b2-9c88-9020bb710148\">\n",
              "    <div class=\"colab-df-container\">\n",
              "      <div>\n",
              "<style scoped>\n",
              "    .dataframe tbody tr th:only-of-type {\n",
              "        vertical-align: middle;\n",
              "    }\n",
              "\n",
              "    .dataframe tbody tr th {\n",
              "        vertical-align: top;\n",
              "    }\n",
              "\n",
              "    .dataframe thead th {\n",
              "        text-align: right;\n",
              "    }\n",
              "</style>\n",
              "<table border=\"1\" class=\"dataframe\">\n",
              "  <thead>\n",
              "    <tr style=\"text-align: right;\">\n",
              "      <th></th>\n",
              "      <th>Filename</th>\n",
              "      <th>Predictions</th>\n",
              "    </tr>\n",
              "  </thead>\n",
              "  <tbody>\n",
              "    <tr>\n",
              "      <th>0</th>\n",
              "      <td>AbdomenCT/000002.jpeg</td>\n",
              "      <td>AbdomenCT</td>\n",
              "    </tr>\n",
              "    <tr>\n",
              "      <th>1</th>\n",
              "      <td>AbdomenCT/000002.jpeg</td>\n",
              "      <td>AbdomenCT</td>\n",
              "    </tr>\n",
              "    <tr>\n",
              "      <th>2</th>\n",
              "      <td>AbdomenCT/000002.jpeg</td>\n",
              "      <td>AbdomenCT</td>\n",
              "    </tr>\n",
              "    <tr>\n",
              "      <th>3</th>\n",
              "      <td>AbdomenCT/000002.jpeg</td>\n",
              "      <td>AbdomenCT</td>\n",
              "    </tr>\n",
              "    <tr>\n",
              "      <th>4</th>\n",
              "      <td>AbdomenCT/000002.jpeg</td>\n",
              "      <td>AbdomenCT</td>\n",
              "    </tr>\n",
              "    <tr>\n",
              "      <th>5</th>\n",
              "      <td>AbdomenCT/000002.jpeg</td>\n",
              "      <td>AbdomenCT</td>\n",
              "    </tr>\n",
              "    <tr>\n",
              "      <th>6</th>\n",
              "      <td>AbdomenCT/000002.jpeg</td>\n",
              "      <td>AbdomenCT</td>\n",
              "    </tr>\n",
              "    <tr>\n",
              "      <th>7</th>\n",
              "      <td>AbdomenCT/000002.jpeg</td>\n",
              "      <td>AbdomenCT</td>\n",
              "    </tr>\n",
              "    <tr>\n",
              "      <th>8</th>\n",
              "      <td>AbdomenCT/000002.jpeg</td>\n",
              "      <td>AbdomenCT</td>\n",
              "    </tr>\n",
              "    <tr>\n",
              "      <th>9</th>\n",
              "      <td>AbdomenCT/000002.jpeg</td>\n",
              "      <td>AbdomenCT</td>\n",
              "    </tr>\n",
              "    <tr>\n",
              "      <th>10</th>\n",
              "      <td>AbdomenCT/000002.jpeg</td>\n",
              "      <td>AbdomenCT</td>\n",
              "    </tr>\n",
              "    <tr>\n",
              "      <th>11</th>\n",
              "      <td>AbdomenCT/000002.jpeg</td>\n",
              "      <td>AbdomenCT</td>\n",
              "    </tr>\n",
              "  </tbody>\n",
              "</table>\n",
              "</div>\n",
              "      <button class=\"colab-df-convert\" onclick=\"convertToInteractive('df-94a55e80-0455-49b2-9c88-9020bb710148')\"\n",
              "              title=\"Convert this dataframe to an interactive table.\"\n",
              "              style=\"display:none;\">\n",
              "        \n",
              "  <svg xmlns=\"http://www.w3.org/2000/svg\" height=\"24px\"viewBox=\"0 0 24 24\"\n",
              "       width=\"24px\">\n",
              "    <path d=\"M0 0h24v24H0V0z\" fill=\"none\"/>\n",
              "    <path d=\"M18.56 5.44l.94 2.06.94-2.06 2.06-.94-2.06-.94-.94-2.06-.94 2.06-2.06.94zm-11 1L8.5 8.5l.94-2.06 2.06-.94-2.06-.94L8.5 2.5l-.94 2.06-2.06.94zm10 10l.94 2.06.94-2.06 2.06-.94-2.06-.94-.94-2.06-.94 2.06-2.06.94z\"/><path d=\"M17.41 7.96l-1.37-1.37c-.4-.4-.92-.59-1.43-.59-.52 0-1.04.2-1.43.59L10.3 9.45l-7.72 7.72c-.78.78-.78 2.05 0 2.83L4 21.41c.39.39.9.59 1.41.59.51 0 1.02-.2 1.41-.59l7.78-7.78 2.81-2.81c.8-.78.8-2.07 0-2.86zM5.41 20L4 18.59l7.72-7.72 1.47 1.35L5.41 20z\"/>\n",
              "  </svg>\n",
              "      </button>\n",
              "      \n",
              "  <style>\n",
              "    .colab-df-container {\n",
              "      display:flex;\n",
              "      flex-wrap:wrap;\n",
              "      gap: 12px;\n",
              "    }\n",
              "\n",
              "    .colab-df-convert {\n",
              "      background-color: #E8F0FE;\n",
              "      border: none;\n",
              "      border-radius: 50%;\n",
              "      cursor: pointer;\n",
              "      display: none;\n",
              "      fill: #1967D2;\n",
              "      height: 32px;\n",
              "      padding: 0 0 0 0;\n",
              "      width: 32px;\n",
              "    }\n",
              "\n",
              "    .colab-df-convert:hover {\n",
              "      background-color: #E2EBFA;\n",
              "      box-shadow: 0px 1px 2px rgba(60, 64, 67, 0.3), 0px 1px 3px 1px rgba(60, 64, 67, 0.15);\n",
              "      fill: #174EA6;\n",
              "    }\n",
              "\n",
              "    [theme=dark] .colab-df-convert {\n",
              "      background-color: #3B4455;\n",
              "      fill: #D2E3FC;\n",
              "    }\n",
              "\n",
              "    [theme=dark] .colab-df-convert:hover {\n",
              "      background-color: #434B5C;\n",
              "      box-shadow: 0px 1px 3px 1px rgba(0, 0, 0, 0.15);\n",
              "      filter: drop-shadow(0px 1px 2px rgba(0, 0, 0, 0.3));\n",
              "      fill: #FFFFFF;\n",
              "    }\n",
              "  </style>\n",
              "\n",
              "      <script>\n",
              "        const buttonEl =\n",
              "          document.querySelector('#df-94a55e80-0455-49b2-9c88-9020bb710148 button.colab-df-convert');\n",
              "        buttonEl.style.display =\n",
              "          google.colab.kernel.accessAllowed ? 'block' : 'none';\n",
              "\n",
              "        async function convertToInteractive(key) {\n",
              "          const element = document.querySelector('#df-94a55e80-0455-49b2-9c88-9020bb710148');\n",
              "          const dataTable =\n",
              "            await google.colab.kernel.invokeFunction('convertToInteractive',\n",
              "                                                     [key], {});\n",
              "          if (!dataTable) return;\n",
              "\n",
              "          const docLinkHtml = 'Like what you see? Visit the ' +\n",
              "            '<a target=\"_blank\" href=https://colab.research.google.com/notebooks/data_table.ipynb>data table notebook</a>'\n",
              "            + ' to learn more about interactive tables.';\n",
              "          element.innerHTML = '';\n",
              "          dataTable['output_type'] = 'display_data';\n",
              "          await google.colab.output.renderOutput(dataTable, element);\n",
              "          const docLink = document.createElement('div');\n",
              "          docLink.innerHTML = docLinkHtml;\n",
              "          element.appendChild(docLink);\n",
              "        }\n",
              "      </script>\n",
              "    </div>\n",
              "  </div>\n",
              "  "
            ]
          },
          "metadata": {}
        }
      ]
    }
  ]
}